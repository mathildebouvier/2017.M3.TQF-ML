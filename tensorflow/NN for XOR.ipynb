{
 "cells": [
  {
   "cell_type": "markdown",
   "metadata": {},
   "source": [
    "# Double layer NN for XOR"
   ]
  },
  {
   "cell_type": "code",
   "execution_count": 1,
   "metadata": {
    "collapsed": true
   },
   "outputs": [],
   "source": [
    "import tensorflow as tf\n",
    "import numpy as np\n",
    "tf.set_random_seed(777)  # for reproducibility"
   ]
  },
  {
   "cell_type": "markdown",
   "metadata": {},
   "source": [
    "## NN 2 -> 2 -> 1 fitting just 4 data points (4 quadrants)"
   ]
  },
  {
   "cell_type": "code",
   "execution_count": null,
   "metadata": {
    "collapsed": false
   },
   "outputs": [],
   "source": []
  },
  {
   "cell_type": "code",
   "execution_count": 2,
   "metadata": {
    "collapsed": true
   },
   "outputs": [],
   "source": [
    "# input & output\n",
    "X = tf.placeholder(tf.float32, [None, 2])\n",
    "Y = tf.placeholder(tf.float32, [None, 1])\n",
    "\n",
    "# 1st layer\n",
    "W1 = tf.Variable(tf.random_normal([2, 2]), name='weight1')\n",
    "b1 = tf.Variable(tf.random_normal([2]), name='bias1')\n",
    "layer1 = tf.sigmoid(tf.matmul(X, W1) + b1)\n",
    "\n",
    "# 2nd layer\n",
    "W2 = tf.Variable(tf.random_normal([2, 1]), name='weight2')\n",
    "b2 = tf.Variable(tf.random_normal([1]), name='bias2')\n",
    "hypothesis = tf.sigmoid(tf.matmul(layer1, W2) + b2)\n",
    "\n",
    "# cost/loss function\n",
    "cost = -tf.reduce_mean(Y*tf.log(hypothesis) + (1 - Y)*tf.log(1 - hypothesis))\n",
    "train = tf.train.GradientDescentOptimizer(learning_rate=0.1).minimize(cost)\n",
    "\n",
    "# Accuracy computation\n",
    "# True if hypothesis>0.5 else False\n",
    "predicted = tf.cast(hypothesis > 0.5, dtype=tf.float32)\n",
    "accuracy = tf.reduce_mean(tf.cast(tf.equal(predicted, Y), dtype=tf.float32))"
   ]
  },
  {
   "cell_type": "code",
   "execution_count": 3,
   "metadata": {
    "collapsed": true
   },
   "outputs": [],
   "source": [
    "x_data = np.array([[0, 0], [0, 1], [1, 0], [1, 1]], dtype=np.float32)\n",
    "y_data = np.array([[0], [1], [1], [0]], dtype=np.float32)\n",
    "feed_dict={X: x_data, Y: y_data}"
   ]
  },
  {
   "cell_type": "markdown",
   "metadata": {},
   "source": [
    "## Fitting"
   ]
  },
  {
   "cell_type": "code",
   "execution_count": 4,
   "metadata": {
    "collapsed": false,
    "scrolled": true
   },
   "outputs": [
    {
     "name": "stdout",
     "output_type": "stream",
     "text": [
      "0 0.7539022\n",
      "4000 0.07765333\n",
      "8000 0.019331548\n",
      "12000 0.010752726\n",
      "16000 0.0074065193\n",
      "20000 0.005636263\n",
      "\n",
      "Hypothesis:  [[0.00543502]\n",
      " [0.9925742 ]\n",
      " [0.9950447 ]\n",
      " [0.00466315]] \n",
      "Correct:  [[0.]\n",
      " [1.]\n",
      " [1.]\n",
      " [0.]] \n",
      "Accuracy:  1.0\n"
     ]
    }
   ],
   "source": [
    "# Launch graph\n",
    "with tf.Session() as sess:\n",
    "    # Initialize TensorFlow variables\n",
    "    sess.run(tf.global_variables_initializer())\n",
    "\n",
    "    for step in range(20001):\n",
    "        sess.run(train, feed_dict={X: x_data, Y: y_data})\n",
    "        if step % 4000 == 0:\n",
    "            print(step, sess.run(cost, feed_dict=feed_dict))\n",
    "\n",
    "    # Accuracy report\n",
    "    h, c, a = sess.run([hypothesis, predicted, accuracy], feed_dict=feed_dict)\n",
    "    print(\"\\nHypothesis: \", h, \"\\nCorrect: \", c, \"\\nAccuracy: \", a)"
   ]
  },
  {
   "cell_type": "markdown",
   "metadata": {},
   "source": [
    "# XOR dataset from Python Machine Learning"
   ]
  },
  {
   "cell_type": "code",
   "execution_count": 5,
   "metadata": {
    "collapsed": false
   },
   "outputs": [
    {
     "data": {
      "image/png": "[encoded data removed]",
      "text/plain": [
       "<Figure size 432x288 with 1 Axes>"
      ]
     },
     "metadata": {},
     "output_type": "display_data"
    }
   ],
   "source": [
    "import matplotlib.pyplot as plt\n",
    "\n",
    "np.random.seed(0)\n",
    "X_xor = np.random.randn(200, 2)\n",
    "y_xor = np.logical_xor(X_xor[:, 0] > 0,\n",
    "                       X_xor[:, 1] > 0)\n",
    "y_xor = np.where(y_xor, 1, -1)\n",
    "\n",
    "plt.scatter(X_xor[y_xor == 1, 0],\n",
    "            X_xor[y_xor == 1, 1],\n",
    "            c='b', marker='x',\n",
    "            label='1')\n",
    "plt.scatter(X_xor[y_xor == -1, 0],\n",
    "            X_xor[y_xor == -1, 1],\n",
    "            c='r',\n",
    "            marker='s',\n",
    "            label='-1')\n",
    "\n",
    "plt.xlim([-3, 3])\n",
    "plt.ylim([-3, 3])\n",
    "plt.legend(loc='best')\n",
    "plt.tight_layout()\n",
    "# plt.savefig('./figures/xor.png', dpi=300)\n",
    "plt.show()"
   ]
  },
  {
   "cell_type": "code",
   "execution_count": 30,
   "metadata": {
    "collapsed": false
   },
   "outputs": [
    {
     "data": {
      "text/plain": [
       "[[False],\n",
       " [False],\n",
       " [True],\n",
       " [True],\n",
       " [True],\n",
       " [False],\n",
       " [False],\n",
       " [False],\n",
       " [True],\n",
       " [True],\n",
       " [True],\n",
       " [True],\n",
       " [True],\n",
       " [True],\n",
       " [False],\n",
       " [False],\n",
       " [False],\n",
       " [True],\n",
       " [False],\n",
       " [False],\n",
       " [False],\n",
       " [True],\n",
       " [False],\n",
       " [True],\n",
       " [False],\n",
       " [True],\n",
       " [False],\n",
       " [True],\n",
       " [False],\n",
       " [False],\n",
       " [False],\n",
       " [False],\n",
       " [True],\n",
       " [True],\n",
       " [True],\n",
       " [False],\n",
       " [True],\n",
       " [True],\n",
       " [False],\n",
       " [True],\n",
       " [True],\n",
       " [True],\n",
       " [False],\n",
       " [True],\n",
       " [True],\n",
       " [True],\n",
       " [False],\n",
       " [False],\n",
       " [False],\n",
       " [False],\n",
       " [True],\n",
       " [True],\n",
       " [True],\n",
       " [False],\n",
       " [False],\n",
       " [False],\n",
       " [True],\n",
       " [True],\n",
       " [True],\n",
       " [False],\n",
       " [True],\n",
       " [False],\n",
       " [False],\n",
       " [True],\n",
       " [False],\n",
       " [True],\n",
       " [True],\n",
       " [True],\n",
       " [True],\n",
       " [True],\n",
       " [True],\n",
       " [False],\n",
       " [False],\n",
       " [True],\n",
       " [False],\n",
       " [True],\n",
       " [False],\n",
       " [False],\n",
       " [True],\n",
       " [False],\n",
       " [True],\n",
       " [False],\n",
       " [True],\n",
       " [False],\n",
       " [False],\n",
       " [False],\n",
       " [True],\n",
       " [True],\n",
       " [False],\n",
       " [True],\n",
       " [False],\n",
       " [False],\n",
       " [True],\n",
       " [True],\n",
       " [True],\n",
       " [True],\n",
       " [False],\n",
       " [True],\n",
       " [False],\n",
       " [False],\n",
       " [False],\n",
       " [False],\n",
       " [True],\n",
       " [False],\n",
       " [True],\n",
       " [False],\n",
       " [True],\n",
       " [False],\n",
       " [True],\n",
       " [True],\n",
       " [False],\n",
       " [True],\n",
       " [True],\n",
       " [False],\n",
       " [False],\n",
       " [False],\n",
       " [True],\n",
       " [True],\n",
       " [True],\n",
       " [False],\n",
       " [False],\n",
       " [False],\n",
       " [False],\n",
       " [False],\n",
       " [False],\n",
       " [True],\n",
       " [True],\n",
       " [False],\n",
       " [False],\n",
       " [True],\n",
       " [False],\n",
       " [False],\n",
       " [True],\n",
       " [False],\n",
       " [True],\n",
       " [True],\n",
       " [False],\n",
       " [False],\n",
       " [True],\n",
       " [True],\n",
       " [True],\n",
       " [True],\n",
       " [False],\n",
       " [True],\n",
       " [False],\n",
       " [False],\n",
       " [True],\n",
       " [True],\n",
       " [False],\n",
       " [True],\n",
       " [True],\n",
       " [False],\n",
       " [True],\n",
       " [False],\n",
       " [True],\n",
       " [True],\n",
       " [False],\n",
       " [True],\n",
       " [False],\n",
       " [False],\n",
       " [False],\n",
       " [True],\n",
       " [False],\n",
       " [True],\n",
       " [True],\n",
       " [True],\n",
       " [True],\n",
       " [True],\n",
       " [True],\n",
       " [True],\n",
       " [True],\n",
       " [False],\n",
       " [False],\n",
       " [True],\n",
       " [False],\n",
       " [False],\n",
       " [True],\n",
       " [False],\n",
       " [False],\n",
       " [True],\n",
       " [False],\n",
       " [False],\n",
       " [True],\n",
       " [False],\n",
       " [False],\n",
       " [True],\n",
       " [True],\n",
       " [False],\n",
       " [True],\n",
       " [True],\n",
       " [True],\n",
       " [False],\n",
       " [True],\n",
       " [False],\n",
       " [False],\n",
       " [True],\n",
       " [False],\n",
       " [False],\n",
       " [False],\n",
       " [False]]"
      ]
     },
     "execution_count": 30,
     "metadata": {},
     "output_type": "execute_result"
    }
   ],
   "source": []
  },
  {
   "cell_type": "code",
   "execution_count": 28,
   "metadata": {
    "collapsed": false
   },
   "outputs": [],
   "source": [
    "x_data = X_xor\n",
    "y_data = (y_xor>0).reshape(-1,1).tolist()\n",
    "feed_dict={X: x_data, Y: y_data}"
   ]
  },
  {
   "cell_type": "markdown",
   "metadata": {},
   "source": [
    "## Trains the same 2 -> 2 -> 1 NN model"
   ]
  },
  {
   "cell_type": "code",
   "execution_count": 31,
   "metadata": {
    "collapsed": false
   },
   "outputs": [
    {
     "name": "stdout",
     "output_type": "stream",
     "text": [
      "0 0.96975416\n",
      "4000 0.45632035\n",
      "8000 0.45101893\n",
      "12000 0.44812977\n",
      "16000 0.44592798\n",
      "20000 0.44392082\n",
      "0.795\n"
     ]
    }
   ],
   "source": [
    "# Launch graph\n",
    "with tf.Session() as sess:\n",
    "    # Initialize TensorFlow variables\n",
    "    sess.run(tf.global_variables_initializer())\n",
    "\n",
    "    for step in range(20001):\n",
    "        sess.run(train, feed_dict={X: x_data, Y: y_data})\n",
    "        if step % 4000 == 0:\n",
    "            print(step, sess.run(cost, feed_dict={X: x_data, Y: y_data}))\n",
    "            \n",
    "    print( sess.run(accuracy, feed_dict={X: x_data, Y: y_data}) )\n",
    "    y_pred = sess.run(predicted, feed_dict={X: x_data, Y: y_data})"
   ]
  },
  {
   "cell_type": "markdown",
   "metadata": {},
   "source": [
    "### Can't fit"
   ]
  },
  {
   "cell_type": "code",
   "execution_count": 18,
   "metadata": {
    "collapsed": false
   },
   "outputs": [
    {
     "data": {
      "image/png": "[encoded data removed]",
      "text/plain": [
       "<Figure size 432x288 with 1 Axes>"
      ]
     },
     "metadata": {},
     "output_type": "display_data"
    }
   ],
   "source": [
    "y_pred = np.squeeze(y_pred)\n",
    "\n",
    "plt.scatter(X_xor[y_pred == 1, 0],\n",
    "            X_xor[y_pred == 1, 1],\n",
    "            c='b', marker='x',\n",
    "            label='1')\n",
    "plt.scatter(X_xor[y_pred == 0, 0],\n",
    "            X_xor[y_pred == 0, 1],\n",
    "            c='r',\n",
    "            marker='s',\n",
    "            label='-1')\n",
    "\n",
    "plt.xlim([-3, 3])\n",
    "plt.ylim([-3, 3])\n",
    "plt.legend(loc='best')\n",
    "plt.tight_layout()\n",
    "# plt.savefig('./figures/xor.png', dpi=300)\n",
    "plt.show()"
   ]
  },
  {
   "cell_type": "markdown",
   "metadata": {},
   "source": [
    "## Now let's try 2 -> 3 -> 3 -> 1 NN"
   ]
  },
  {
   "cell_type": "code",
   "execution_count": 32,
   "metadata": {
    "collapsed": false
   },
   "outputs": [],
   "source": [
    "# input & output\n",
    "X = tf.placeholder(tf.float32, [None, 2])\n",
    "Y = tf.placeholder(tf.float32, [None, 1])\n",
    "\n",
    "# 1st layer\n",
    "W1 = tf.Variable(tf.random_normal([2, 3]), name='weight1')\n",
    "b1 = tf.Variable(tf.random_normal([3]), name='bias1')\n",
    "layer1 = tf.sigmoid(tf.matmul(X, W1) + b1)\n",
    "\n",
    "# 2st layer\n",
    "W2 = tf.Variable(tf.random_normal([3, 3]), name='weight2')\n",
    "b2 = tf.Variable(tf.random_normal([3]), name='bias2')\n",
    "layer2 = tf.sigmoid(tf.matmul(layer1, W2) + b2)\n",
    "\n",
    "# 3nd layer\n",
    "W3 = tf.Variable(tf.random_normal([3, 1]), name='weight3')\n",
    "b3 = tf.Variable(tf.random_normal([1]), name='bias3')\n",
    "hypothesis = tf.sigmoid(tf.matmul(layer2, W3) + b3)\n",
    "\n",
    "# cost/loss function\n",
    "cost = -tf.reduce_mean(Y*tf.log(hypothesis) + (1 - Y)*tf.log(1 - hypothesis))\n",
    "train = tf.train.GradientDescentOptimizer(learning_rate=0.1).minimize(cost)\n",
    "\n",
    "# Accuracy computation\n",
    "# True if hypothesis>0.5 else False\n",
    "predicted = tf.cast(hypothesis > 0.5, dtype=tf.float32)\n",
    "accuracy = tf.reduce_mean(tf.cast(tf.equal(predicted, Y), dtype=tf.float32))"
   ]
  },
  {
   "cell_type": "code",
   "execution_count": 33,
   "metadata": {
    "collapsed": false
   },
   "outputs": [
    {
     "name": "stdout",
     "output_type": "stream",
     "text": [
      "0 0.8494826\n",
      "4000 0.34475717\n",
      "8000 0.2335304\n",
      "12000 0.19148427\n",
      "16000 0.1621264\n",
      "20000 0.12107172\n",
      "0.955\n"
     ]
    }
   ],
   "source": [
    "# Launch graph\n",
    "with tf.Session() as sess:\n",
    "    # Initialize TensorFlow variables\n",
    "    sess.run(tf.global_variables_initializer())\n",
    "\n",
    "    for step in range(20001):\n",
    "        sess.run(train, feed_dict={X: x_data, Y: y_data})\n",
    "        if step % 4000 == 0:\n",
    "            print(step, sess.run(cost, feed_dict={X: x_data, Y: y_data}))\n",
    "            \n",
    "    print( sess.run(accuracy, feed_dict={X: x_data, Y: y_data}) )\n",
    "    y_pred = sess.run(predicted, feed_dict={X: x_data, Y: y_data})"
   ]
  },
  {
   "cell_type": "code",
   "execution_count": 34,
   "metadata": {
    "collapsed": false
   },
   "outputs": [
    {
     "data": {
      "image/png": "[encoded data removed]",
      "text/plain": [
       "<Figure size 432x288 with 1 Axes>"
      ]
     },
     "metadata": {},
     "output_type": "display_data"
    }
   ],
   "source": [
    "y_pred = np.squeeze(y_pred)\n",
    "\n",
    "plt.scatter(X_xor[y_pred == 1, 0],\n",
    "            X_xor[y_pred == 1, 1],\n",
    "            c='b', marker='x',\n",
    "            label='1')\n",
    "plt.scatter(X_xor[y_pred == 0, 0],\n",
    "            X_xor[y_pred == 0, 1],\n",
    "            c='r',\n",
    "            marker='s',\n",
    "            label='-1')\n",
    "\n",
    "plt.xlim([-3, 3])\n",
    "plt.ylim([-3, 3])\n",
    "plt.legend(loc='best')\n",
    "plt.tight_layout()\n",
    "# plt.savefig('./figures/xor.png', dpi=300)\n",
    "plt.show()"
   ]
  },
  {
   "cell_type": "markdown",
   "metadata": {
    "collapsed": false
   },
   "source": [
    "## Keras Example"
   ]
  },
  {
   "cell_type": "code",
   "execution_count": 35,
   "metadata": {
    "collapsed": false
   },
   "outputs": [
    {
     "name": "stderr",
     "output_type": "stream",
     "text": [
      "D:\\sw\\Anaconda3\\lib\\site-packages\\h5py\\__init__.py:36: FutureWarning: Conversion of the second argument of issubdtype from `float` to `np.floating` is deprecated. In future, it will be treated as `np.float64 == np.dtype(float).type`.\n",
      "  from ._conv import register_converters as _register_converters\n"
     ]
    }
   ],
   "source": [
    "import tensorflow as tf\n",
    "import tensorflow.contrib.keras as keras\n",
    "# If error, make update `dask` package in conda\n",
    "# conda upgrade dask\n",
    "# conda install tornado=4.5.3"
   ]
  },
  {
   "cell_type": "code",
   "execution_count": 36,
   "metadata": {
    "collapsed": false
   },
   "outputs": [],
   "source": [
    "model = keras.models.Sequential()\n",
    "\n",
    "model.add(\n",
    "    keras.layers.Dense(\n",
    "        units=3,  \n",
    "        input_dim=2,\n",
    "        kernel_initializer='glorot_uniform',\n",
    "        bias_initializer='zeros',\n",
    "        activation='tanh'))\n",
    "\n",
    "model.add(\n",
    "    keras.layers.Dense(\n",
    "        units=3,    \n",
    "        input_dim=3,\n",
    "        kernel_initializer='glorot_uniform',\n",
    "        bias_initializer='zeros',\n",
    "        activation='tanh'))\n",
    "\n",
    "model.add(\n",
    "    keras.layers.Dense(\n",
    "        units=1,    \n",
    "        input_dim=3,\n",
    "        kernel_initializer='glorot_uniform',\n",
    "        bias_initializer='zeros',\n",
    "        activation='sigmoid'))\n",
    "\n",
    "sgd_optimizer = keras.optimizers.SGD(\n",
    "        lr=0.11, decay=1e-7, momentum=.9)\n",
    "\n",
    "model.compile(optimizer=sgd_optimizer,\n",
    "              loss='binary_crossentropy')"
   ]
  },
  {
   "cell_type": "code",
   "execution_count": 37,
   "metadata": {
    "collapsed": false
   },
   "outputs": [
    {
     "name": "stdout",
     "output_type": "stream",
     "text": [
      "Train on 180 samples, validate on 20 samples\n",
      "Epoch 1/75\n",
      "180/180 [==============================] - 0s - loss: 0.6967 - val_loss: 0.7087\n",
      "Epoch 2/75\n",
      "180/180 [==============================] - 0s - loss: 0.6944 - val_loss: 0.7049\n",
      "Epoch 3/75\n",
      "180/180 [==============================] - 0s - loss: 0.6901 - val_loss: 0.6998\n",
      "Epoch 4/75\n",
      "180/180 [==============================] - 0s - loss: 0.6844 - val_loss: 0.6941\n",
      "Epoch 5/75\n",
      "180/180 [==============================] - 0s - loss: 0.6779 - val_loss: 0.6882\n",
      "Epoch 6/75\n",
      "180/180 [==============================] - 0s - loss: 0.6709 - val_loss: 0.6825\n",
      "Epoch 7/75\n",
      "180/180 [==============================] - 0s - loss: 0.6639 - val_loss: 0.6773\n",
      "Epoch 8/75\n",
      "180/180 [==============================] - 0s - loss: 0.6571 - val_loss: 0.6728\n",
      "Epoch 9/75\n",
      "180/180 [==============================] - 0s - loss: 0.6508 - val_loss: 0.6691\n",
      "Epoch 10/75\n",
      "180/180 [==============================] - 0s - loss: 0.6450 - val_loss: 0.6661\n",
      "Epoch 11/75\n",
      "180/180 [==============================] - 0s - loss: 0.6396 - val_loss: 0.6635\n",
      "Epoch 12/75\n",
      "180/180 [==============================] - 0s - loss: 0.6346 - val_loss: 0.6611\n",
      "Epoch 13/75\n",
      "180/180 [==============================] - 0s - loss: 0.6296 - val_loss: 0.6584\n",
      "Epoch 14/75\n",
      "180/180 [==============================] - 0s - loss: 0.6246 - val_loss: 0.6552\n",
      "Epoch 15/75\n",
      "180/180 [==============================] - 0s - loss: 0.6193 - val_loss: 0.6512\n",
      "Epoch 16/75\n",
      "180/180 [==============================] - 0s - loss: 0.6134 - val_loss: 0.6464\n",
      "Epoch 17/75\n",
      "180/180 [==============================] - 0s - loss: 0.6071 - val_loss: 0.6408\n",
      "Epoch 18/75\n",
      "180/180 [==============================] - 0s - loss: 0.6002 - val_loss: 0.6345\n",
      "Epoch 19/75\n",
      "180/180 [==============================] - 0s - loss: 0.5928 - val_loss: 0.6277\n",
      "Epoch 20/75\n",
      "180/180 [==============================] - 0s - loss: 0.5850 - val_loss: 0.6207\n",
      "Epoch 21/75\n",
      "180/180 [==============================] - 0s - loss: 0.5769 - val_loss: 0.6135\n",
      "Epoch 22/75\n",
      "180/180 [==============================] - 0s - loss: 0.5685 - val_loss: 0.6062\n",
      "Epoch 23/75\n",
      "180/180 [==============================] - 0s - loss: 0.5600 - val_loss: 0.5990\n",
      "Epoch 24/75\n",
      "180/180 [==============================] - 0s - loss: 0.5511 - val_loss: 0.5918\n",
      "Epoch 25/75\n",
      "180/180 [==============================] - 0s - loss: 0.5421 - val_loss: 0.5845\n",
      "Epoch 26/75\n",
      "180/180 [==============================] - 0s - loss: 0.5329 - val_loss: 0.5772\n",
      "Epoch 27/75\n",
      "180/180 [==============================] - 0s - loss: 0.5235 - val_loss: 0.5697\n",
      "Epoch 28/75\n",
      "180/180 [==============================] - 0s - loss: 0.5139 - val_loss: 0.5620\n",
      "Epoch 29/75\n",
      "180/180 [==============================] - 0s - loss: 0.5041 - val_loss: 0.5540\n",
      "Epoch 30/75\n",
      "180/180 [==============================] - 0s - loss: 0.4942 - val_loss: 0.5458\n",
      "Epoch 31/75\n",
      "180/180 [==============================] - 0s - loss: 0.4840 - val_loss: 0.5372\n",
      "Epoch 32/75\n",
      "180/180 [==============================] - 0s - loss: 0.4735 - val_loss: 0.5284\n",
      "Epoch 33/75\n",
      "180/180 [==============================] - 0s - loss: 0.4627 - val_loss: 0.5192\n",
      "Epoch 34/75\n",
      "180/180 [==============================] - 0s - loss: 0.4516 - val_loss: 0.5097\n",
      "Epoch 35/75\n",
      "180/180 [==============================] - 0s - loss: 0.4402 - val_loss: 0.4999\n",
      "Epoch 36/75\n",
      "180/180 [==============================] - 0s - loss: 0.4285 - val_loss: 0.4899\n",
      "Epoch 37/75\n",
      "180/180 [==============================] - 0s - loss: 0.4166 - val_loss: 0.4797\n",
      "Epoch 38/75\n",
      "180/180 [==============================] - 0s - loss: 0.4045 - val_loss: 0.4694\n",
      "Epoch 39/75\n",
      "180/180 [==============================] - 0s - loss: 0.3923 - val_loss: 0.4591\n",
      "Epoch 40/75\n",
      "180/180 [==============================] - 0s - loss: 0.3800 - val_loss: 0.4487\n",
      "Epoch 41/75\n",
      "180/180 [==============================] - 0s - loss: 0.3677 - val_loss: 0.4383\n",
      "Epoch 42/75\n",
      "180/180 [==============================] - 0s - loss: 0.3553 - val_loss: 0.4279\n",
      "Epoch 43/75\n",
      "180/180 [==============================] - 0s - loss: 0.3430 - val_loss: 0.4176\n",
      "Epoch 44/75\n",
      "180/180 [==============================] - 0s - loss: 0.3309 - val_loss: 0.4074\n",
      "Epoch 45/75\n",
      "180/180 [==============================] - 0s - loss: 0.3190 - val_loss: 0.3974\n",
      "Epoch 46/75\n",
      "180/180 [==============================] - 0s - loss: 0.3073 - val_loss: 0.3875\n",
      "Epoch 47/75\n",
      "180/180 [==============================] - 0s - loss: 0.2959 - val_loss: 0.3779\n",
      "Epoch 48/75\n",
      "180/180 [==============================] - 0s - loss: 0.2849 - val_loss: 0.3687\n",
      "Epoch 49/75\n",
      "180/180 [==============================] - 0s - loss: 0.2742 - val_loss: 0.3598\n",
      "Epoch 50/75\n",
      "180/180 [==============================] - 0s - loss: 0.2639 - val_loss: 0.3514\n",
      "Epoch 51/75\n",
      "180/180 [==============================] - 0s - loss: 0.2540 - val_loss: 0.3433\n",
      "Epoch 52/75\n",
      "180/180 [==============================] - 0s - loss: 0.2444 - val_loss: 0.3357\n",
      "Epoch 53/75\n",
      "180/180 [==============================] - 0s - loss: 0.2352 - val_loss: 0.3286\n",
      "Epoch 54/75\n",
      "180/180 [==============================] - 0s - loss: 0.2263 - val_loss: 0.3219\n",
      "Epoch 55/75\n",
      "180/180 [==============================] - 0s - loss: 0.2177 - val_loss: 0.3156\n",
      "Epoch 56/75\n",
      "180/180 [==============================] - 0s - loss: 0.2095 - val_loss: 0.3097\n",
      "Epoch 57/75\n",
      "180/180 [==============================] - 0s - loss: 0.2017 - val_loss: 0.3040\n",
      "Epoch 58/75\n",
      "180/180 [==============================] - 0s - loss: 0.1941 - val_loss: 0.2985\n",
      "Epoch 59/75\n",
      "180/180 [==============================] - 0s - loss: 0.1869 - val_loss: 0.2932\n",
      "Epoch 60/75\n",
      "180/180 [==============================] - 0s - loss: 0.1799 - val_loss: 0.2881\n",
      "Epoch 61/75\n",
      "180/180 [==============================] - 0s - loss: 0.1733 - val_loss: 0.2830\n",
      "Epoch 62/75\n",
      "180/180 [==============================] - 0s - loss: 0.1669 - val_loss: 0.2780\n",
      "Epoch 63/75\n",
      "180/180 [==============================] - 0s - loss: 0.1609 - val_loss: 0.2731\n",
      "Epoch 64/75\n",
      "180/180 [==============================] - 0s - loss: 0.1552 - val_loss: 0.2683\n",
      "Epoch 65/75\n",
      "180/180 [==============================] - 0s - loss: 0.1498 - val_loss: 0.2637\n",
      "Epoch 66/75\n",
      "180/180 [==============================] - 0s - loss: 0.1447 - val_loss: 0.2593\n",
      "Epoch 67/75\n",
      "180/180 [==============================] - 0s - loss: 0.1399 - val_loss: 0.2551\n",
      "Epoch 68/75\n",
      "180/180 [==============================] - 0s - loss: 0.1353 - val_loss: 0.2512\n",
      "Epoch 69/75\n",
      "180/180 [==============================] - 0s - loss: 0.1310 - val_loss: 0.2475\n",
      "Epoch 70/75\n",
      "180/180 [==============================] - 0s - loss: 0.1270 - val_loss: 0.2442\n",
      "Epoch 71/75\n",
      "180/180 [==============================] - 0s - loss: 0.1231 - val_loss: 0.2413\n",
      "Epoch 72/75\n",
      "180/180 [==============================] - 0s - loss: 0.1195 - val_loss: 0.2387\n",
      "Epoch 73/75\n",
      "180/180 [==============================] - 0s - loss: 0.1160 - val_loss: 0.2364\n",
      "Epoch 74/75\n",
      "180/180 [==============================] - 0s - loss: 0.1127 - val_loss: 0.2345\n",
      "Epoch 75/75\n",
      "180/180 [==============================] - 0s - loss: 0.1096 - val_loss: 0.2329\n"
     ]
    }
   ],
   "source": [
    "history = model.fit(x_data, np.squeeze(y_data),\n",
    "                    batch_size=200, epochs=75,\n",
    "                    verbose=1,\n",
    "                    validation_split=0.1)"
   ]
  },
  {
   "cell_type": "code",
   "execution_count": 38,
   "metadata": {
    "collapsed": false
   },
   "outputs": [
    {
     "data": {
      "text/plain": [
       "(200,)"
      ]
     },
     "execution_count": 38,
     "metadata": {},
     "output_type": "execute_result"
    }
   ],
   "source": [
    "y_pred.shape"
   ]
  },
  {
   "cell_type": "code",
   "execution_count": 42,
   "metadata": {
    "collapsed": false
   },
   "outputs": [
    {
     "data": {
      "text/plain": [
       "0.985"
      ]
     },
     "execution_count": 42,
     "metadata": {},
     "output_type": "execute_result"
    }
   ],
   "source": [
    "y_pred = model.predict_classes(x_data, verbose=0)\n",
    "correct_preds = np.sum(y_pred == y_data, axis=0) \n",
    "sum(correct_preds)/200"
   ]
  },
  {
   "cell_type": "code",
   "execution_count": 43,
   "metadata": {
    "collapsed": false
   },
   "outputs": [
    {
     "data": {
      "image/png": "[encoded data removed]",
      "text/plain": [
       "<Figure size 432x288 with 1 Axes>"
      ]
     },
     "metadata": {},
     "output_type": "display_data"
    }
   ],
   "source": [
    "y_pred = np.squeeze(y_pred)\n",
    "\n",
    "plt.scatter(X_xor[y_pred == 1, 0],\n",
    "            X_xor[y_pred == 1, 1],\n",
    "            c='b', marker='x',\n",
    "            label='1')\n",
    "plt.scatter(X_xor[y_pred == 0, 0],\n",
    "            X_xor[y_pred == 0, 1],\n",
    "            c='r',\n",
    "            marker='s',\n",
    "            label='-1')\n",
    "\n",
    "plt.xlim([-3, 3])\n",
    "plt.ylim([-3, 3])\n",
    "plt.legend(loc='best')\n",
    "plt.tight_layout()\n",
    "# plt.savefig('./figures/xor.png', dpi=300)\n",
    "plt.show()"
   ]
  },
  {
   "cell_type": "code",
   "execution_count": null,
   "metadata": {
    "collapsed": true
   },
   "outputs": [],
   "source": []
  }
 ],
 "metadata": {
  "anaconda-cloud": {},
  "kernelspec": {
   "display_name": "Python [default]",
   "language": "python",
   "name": "python3"
  },
  "language_info": {
   "codemirror_mode": {
    "name": "ipython",
    "version": 3
   },
   "file_extension": ".py",
   "mimetype": "text/x-python",
   "name": "python",
   "nbconvert_exporter": "python",
   "pygments_lexer": "ipython3",
   "version": "3.5.2"
  }
 },
 "nbformat": 4,
 "nbformat_minor": 1
}
