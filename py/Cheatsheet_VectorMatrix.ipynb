{
 "cells": [
  {
   "cell_type": "markdown",
   "metadata": {},
   "source": [
    "# Correlated multivariate normal"
   ]
  },
  {
   "cell_type": "code",
   "execution_count": 1,
   "metadata": {
    "collapsed": true
   },
   "outputs": [],
   "source": [
    "import numpy as np"
   ]
  },
  {
   "cell_type": "code",
   "execution_count": null,
   "metadata": {
    "collapsed": true
   },
   "outputs": [],
   "source": []
  },
  {
   "cell_type": "code",
   "execution_count": 2,
   "metadata": {
    "collapsed": false
   },
   "outputs": [
    {
     "name": "stdout",
     "output_type": "stream",
     "text": [
      "[2 5 2] \n",
      " [[ 1.   0.7 -0.2]\n",
      " [ 0.7  1.   0.5]\n",
      " [-0.2  0.5  1. ]]\n"
     ]
    }
   ],
   "source": [
    "sig_v = np.array([2, 5, 2])\n",
    "cor_m = np.array([[1, 0.7, -0.2], [0.7, 1, 0.5], [-0.2, 0.5, 1]])\n",
    "print(sig_v, '\\n', cor_m)"
   ]
  },
  {
   "cell_type": "code",
   "execution_count": 3,
   "metadata": {
    "collapsed": false
   },
   "outputs": [
    {
     "name": "stdout",
     "output_type": "stream",
     "text": [
      "[ 4 25  4] \n",
      "\n",
      "[[ 1.    0.49  0.04]\n",
      " [ 0.49  1.    0.25]\n",
      " [ 0.04  0.25  1.  ]] \n",
      "\n",
      "[[ 2.   3.5 -0.4]\n",
      " [ 1.4  5.   1. ]\n",
      " [-0.4  2.5  2. ]] \n",
      "\n",
      "[[ 2.   3.5 -0.4]\n",
      " [ 1.4  5.   1. ]\n",
      " [-0.4  2.5  2. ]] \n",
      "\n"
     ]
    }
   ],
   "source": [
    "# Vector * Vector(Matrix * Matrix): Component-wise\n",
    "print(sig_v * sig_v, '\\n')\n",
    "print(cor_m * cor_m, '\\n')\n",
    "\n",
    "# Matrix x Vector ??: component-wise in each vector\n",
    "print( cor_m * sig_v, '\\n')\n",
    "print( sig_v * cor_m, '\\n') # Same"
   ]
  },
  {
   "cell_type": "code",
   "execution_count": 4,
   "metadata": {
    "collapsed": false
   },
   "outputs": [
    {
     "name": "stdout",
     "output_type": "stream",
     "text": [
      "33\n",
      "33\n"
     ]
    }
   ],
   "source": [
    "# Dot(inner) product\n",
    "print( np.dot(sig_v, sig_v) )\n",
    "print( sig_v.dot(sig_v) ) # same"
   ]
  },
  {
   "cell_type": "code",
   "execution_count": 5,
   "metadata": {
    "collapsed": false
   },
   "outputs": [
    {
     "name": "stdout",
     "output_type": "stream",
     "text": [
      "[[ 1.53  1.3  -0.05]\n",
      " [ 1.3   1.74  0.86]\n",
      " [-0.05  0.86  1.29]] \n",
      "\n",
      "[ 5.1  7.4  4.1] \n",
      "\n",
      "[ 5.1  7.4  4.1]\n"
     ]
    }
   ],
   "source": [
    "# Matrix multiplication ?\n",
    "print(cor_m @ cor_m, '\\n')\n",
    "\n",
    "print(np.matmul(cor_m, sig_v), '\\n')  # sig_v is treated as a column vector\n",
    "\n",
    "print(np.matmul(sig_v, cor_m)) # sig_v is treated as a row vector"
   ]
  },
  {
   "cell_type": "code",
   "execution_count": 7,
   "metadata": {
    "collapsed": false
   },
   "outputs": [
    {
     "name": "stdout",
     "output_type": "stream",
     "text": [
      "[[2]\n",
      " [5]\n",
      " [2]]\n"
     ]
    }
   ],
   "source": [
    "# Exciplicitly make a column vector\n",
    "print( np.reshape(sig_v,(3,1)) )\n",
    "#print( sig_v.reshape((3,1)) )\n",
    "#sig_v.transpose() # same"
   ]
  },
  {
   "cell_type": "code",
   "execution_count": 6,
   "metadata": {
    "collapsed": false
   },
   "outputs": [
    {
     "name": "stdout",
     "output_type": "stream",
     "text": [
      "[[  4.    7.   -0.8]\n",
      " [  7.   25.    5. ]\n",
      " [ -0.8   5.    4. ]]\n"
     ]
    }
   ],
   "source": [
    "cov_m = sig_v * cor_m * np.reshape(sig_v,(3,1))\n",
    "print(cov_m)"
   ]
  },
  {
   "cell_type": "code",
   "execution_count": null,
   "metadata": {
    "collapsed": true
   },
   "outputs": [],
   "source": []
  },
  {
   "cell_type": "code",
   "execution_count": 7,
   "metadata": {
    "collapsed": false,
    "scrolled": true
   },
   "outputs": [
    {
     "name": "stdout",
     "output_type": "stream",
     "text": [
      "[[ 2.          0.          0.        ]\n",
      " [ 3.5         3.57071421  0.        ]\n",
      " [-0.4         1.79235851  0.79211803]]\n"
     ]
    }
   ],
   "source": [
    "# Cholesky decomposition of covariance matrix\n",
    "\n",
    "chol_m = np.linalg.cholesky(cov_m)\n",
    "print(chol_m)"
   ]
  },
  {
   "cell_type": "code",
   "execution_count": 9,
   "metadata": {
    "collapsed": false
   },
   "outputs": [
    {
     "name": "stdout",
     "output_type": "stream",
     "text": [
      "[[  4.    7.   -0.8]\n",
      " [  7.   25.    5. ]\n",
      " [ -0.8   5.    4. ]] \n",
      "\n",
      "[[ 0.  0.  0.]\n",
      " [ 0.  0.  0.]\n",
      " [ 0.  0.  0.]]\n"
     ]
    }
   ],
   "source": [
    "# Let's verify that L x L^T = Covariance\n",
    "\n",
    "print( chol_m @ chol_m.transpose(), '\\n' )\n",
    "print( chol_m @ chol_m.transpose() - cov_m )"
   ]
  },
  {
   "cell_type": "code",
   "execution_count": 10,
   "metadata": {
    "collapsed": false
   },
   "outputs": [
    {
     "data": {
      "text/plain": [
       "array([[-1.00961347,  1.36113387, -1.03805982, ..., -0.24931149,\n",
       "        -1.23352916, -1.97188792],\n",
       "       [-1.63228497,  2.51558454,  0.61215359, ..., -0.8627275 ,\n",
       "        -0.09129585,  0.31072263],\n",
       "       [-0.10433959, -1.75305044, -0.28620661, ..., -0.2094462 ,\n",
       "        -1.02393013,  0.26219418]])"
      ]
     },
     "execution_count": 10,
     "metadata": {},
     "output_type": "execute_result"
    }
   ],
   "source": [
    "# Now let's create multivariate normal random variables following the covariance matrix\n",
    "\n",
    "# First, create standard normals (1000x3)\n",
    "\n",
    "znorm_m = np.random.normal(size=(3, 10000))\n",
    "znorm_m"
   ]
  },
  {
   "cell_type": "code",
   "execution_count": 11,
   "metadata": {
    "collapsed": false
   },
   "outputs": [
    {
     "data": {
      "text/plain": [
       "array([[ -2.01922695,   2.72226775,  -2.07611964, ...,  -0.49862298,\n",
       "         -2.46705832,  -3.94377584],\n",
       "       [ -9.36207029,  13.74640201,  -1.44738385, ...,  -3.95314355,\n",
       "         -4.64334345,  -5.79210601],\n",
       "       [ -2.60444373,   2.57575292,   1.2857132 , ...,  -1.61249848,\n",
       "         -0.48129675,   1.55337025]])"
      ]
     },
     "execution_count": 11,
     "metadata": {},
     "output_type": "execute_result"
    }
   ],
   "source": [
    "# Then multiply C^T\n",
    "\n",
    "#xnorm_m = znorm_m @ chol_m.transpose()\n",
    "xnorm_m = chol_m @ znorm_m\n",
    "xnorm_m"
   ]
  },
  {
   "cell_type": "code",
   "execution_count": 12,
   "metadata": {
    "collapsed": false,
    "scrolled": true
   },
   "outputs": [
    {
     "name": "stdout",
     "output_type": "stream",
     "text": [
      "[[  4.    7.   -0.8]\n",
      " [  7.   25.    5. ]\n",
      " [ -0.8   5.    4. ]]\n",
      "Cov from sample:\n",
      " [[  4.07059587   7.11571297  -0.79378447]\n",
      " [  7.11571297  25.26594799   4.98654495]\n",
      " [ -0.79378447   4.98654495   3.94743611]]\n",
      "Error:\n",
      " [[ 0.07059587  0.11571297  0.00621553]\n",
      " [ 0.11571297  0.26594799 -0.01345505]\n",
      " [ 0.00621553 -0.01345505 -0.05256389]]\n"
     ]
    }
   ],
   "source": [
    "# Let's verify that X = C * Z  follows the covariance\n",
    "print(cov_m)\n",
    "cov_m_sample = np.cov( xnorm_m )\n",
    "print( 'Cov from sample:\\n', cov_m_sample )\n",
    "print( 'Error:\\n', cov_m_sample - cov_m )"
   ]
  },
  {
   "cell_type": "code",
   "execution_count": 15,
   "metadata": {
    "collapsed": false
   },
   "outputs": [
    {
     "name": "stdout",
     "output_type": "stream",
     "text": [
      "[[ 1.   0.7 -0.2]\n",
      " [ 0.7  1.   0.5]\n",
      " [-0.2  0.5  1. ]]\n",
      "Corr from sample:\n",
      " [[ 1.          0.70165178 -0.19802319]\n",
      " [ 0.70165178  1.          0.49931474]\n",
      " [-0.19802319  0.49931474  1.        ]]\n",
      "Error:\n",
      " [[ -2.22044605e-16   1.65177592e-03   1.97681109e-03]\n",
      " [  1.65177592e-03   0.00000000e+00  -6.85262936e-04]\n",
      " [  1.97681109e-03  -6.85262936e-04  -1.11022302e-16]]\n"
     ]
    }
   ],
   "source": [
    "# also check the correation\n",
    "print(cor_m)\n",
    "cor_m_sample = np.corrcoef( xnorm_m )\n",
    "print( 'Corr from sample:\\n', cor_m_sample )\n",
    "print( 'Error:\\n', cor_m_sample - cor_m )"
   ]
  },
  {
   "cell_type": "code",
   "execution_count": null,
   "metadata": {
    "collapsed": true
   },
   "outputs": [],
   "source": []
  }
 ],
 "metadata": {
  "anaconda-cloud": {},
  "kernelspec": {
   "display_name": "Python [default]",
   "language": "python",
   "name": "python3"
  },
  "language_info": {
   "codemirror_mode": {
    "name": "ipython",
    "version": 3
   },
   "file_extension": ".py",
   "mimetype": "text/x-python",
   "name": "python",
   "nbconvert_exporter": "python",
   "pygments_lexer": "ipython3",
   "version": "3.5.2"
  }
 },
 "nbformat": 4,
 "nbformat_minor": 1
}
